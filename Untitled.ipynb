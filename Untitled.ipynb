{
 "cells": [
  {
   "cell_type": "markdown",
   "id": "b7990e9b-fcbf-4c33-9855-0d55426b076a",
   "metadata": {},
   "source": [
    "# Funciones\n"
   ]
  },
  {
   "cell_type": "code",
   "execution_count": null,
   "id": "ffba9d99-3936-40f3-9382-4e2845386b11",
   "metadata": {},
   "outputs": [],
   "source": [
    "s=\"manzanas\"\n",
    "print( len(s))\n",
    "\n",
    "r=\"Abecedario\"\n",
    "print( len(r))\n"
   ]
  },
  {
   "cell_type": "markdown",
   "id": "042e091a-129f-44e5-9619-7375d4b81df1",
   "metadata": {},
   "source": [
    "__map(funcion, nombre (lista) )__:Aplicar una funcion sobre una lista"
   ]
  },
  {
   "cell_type": "code",
   "execution_count": null,
   "id": "7a04ebab-8d30-4635-a37a-31f102adbc77",
   "metadata": {},
   "outputs": [],
   "source": [
    "\n",
    "def es_larga(cadena):\n",
    "    return len(cadena)> 4\n",
    "    \n",
    "print( es_larga(\"cabeza\") ) \n",
    "print ( es_larga(\"Mano\") )\n",
    "\n",
    "lista= [ \"dos\", \"tres\", \"cinco\", \"Cabeza\", \"Pescado\", \"Coliflor\", \"Agua\", \"Sal\"]\n",
    "print( *map(es_larga, lista) ) "
   ]
  },
  {
   "cell_type": "code",
   "execution_count": null,
   "id": "a46f1b62-420f-45b2-ac4c-acf7ded8b62a",
   "metadata": {},
   "outputs": [],
   "source": [
    "\n",
    "def f(x):\n",
    "    x**2+2*x+3\n",
    "L= [1,2,3,4,5]\n",
    "\n",
    "print( *map(f,L) )"
   ]
  },
  {
   "cell_type": "markdown",
   "id": "63784174-2196-4322-8e85-fbd692c1596f",
   "metadata": {},
   "source": [
    "__Imput()__ y print() INPUT ES EL CIN"
   ]
  },
  {
   "cell_type": "code",
   "execution_count": null,
   "id": "48171ac3-a481-4353-ac0f-85a6bc48f931",
   "metadata": {},
   "outputs": [],
   "source": [
    "print(\"Introduce texto\")\n",
    "x= input()\n",
    "\n",
    "print(\"Wachuwa, Wachu wachu wa\" ,x)"
   ]
  },
  {
   "cell_type": "code",
   "execution_count": null,
   "id": "e09c0530-7851-48cb-8d6c-17d13b923a12",
   "metadata": {},
   "outputs": [],
   "source": [
    "x= int( input())\n",
    "z= int( input())\n",
    "y= int( input())\n",
    " \n",
    "def cuadrdo(x):\n",
    "    return x**2\n",
    "\n",
    "print( *map(cuadrdo,[x,y,z]) )"
   ]
  },
  {
   "cell_type": "markdown",
   "id": "bf382ecc-5df2-489e-bc7e-55d2c1c50908",
   "metadata": {},
   "source": [
    "__abs(numero)__: VALOR ABS"
   ]
  },
  {
   "cell_type": "code",
   "execution_count": null,
   "id": "f81b739a-669c-4438-a10f-57fd3d98849f",
   "metadata": {},
   "outputs": [],
   "source": [
    "X= -8\n",
    "abs(-8)\n"
   ]
  },
  {
   "cell_type": "markdown",
   "id": "ca6c2a15-9f2d-4eba-a49d-c5463f3f5378",
   "metadata": {},
   "source": [
    "__all(lista)__.: REGRESA TRUE SI TODOS SON TRUE\n",
    "-0 ES FALSO\n",
    "-\"\" ES FALSO\n",
    "-[] ES FALSO"
   ]
  },
  {
   "cell_type": "code",
   "execution_count": null,
   "id": "464ccaec-2c53-4a4b-aa97-c5457850f26f",
   "metadata": {},
   "outputs": [],
   "source": [
    "\n",
    "l=[3,7,8,70]\n",
    "def mayor(x):\n",
    "    return x>2\n",
    "\n",
    "mayor(2)\n",
    "mayores= map(mayor,l) \n",
    "print( all(mayores) )"
   ]
  },
  {
   "cell_type": "code",
   "execution_count": null,
   "id": "dd99300b-50f5-450c-abea-bace421bc12c",
   "metadata": {},
   "outputs": [],
   "source": [
    "print( all(l) )"
   ]
  },
  {
   "cell_type": "markdown",
   "id": "fdd2fea1-578c-4fc3-89c1-940ba42e43a3",
   "metadata": {},
   "source": [
    "any(lista) RETURN TRUE SI ALGUN VALOR ES TRUE"
   ]
  },
  {
   "cell_type": "code",
   "execution_count": null,
   "id": "fcfb0c07-40ae-49b4-a73a-d894e7826683",
   "metadata": {},
   "outputs": [],
   "source": [
    "def mide5(s):\n",
    "    return len(s)==5\n",
    "l=[\"dos\",\"uno\",\"tres\",\"cuatro\",\"cinco\",\"seis\"]\n",
    "print( any(map(mide5,l) ) )"
   ]
  },
  {
   "cell_type": "code",
   "execution_count": null,
   "id": "5a86b832-2490-4855-be55-400c822bf418",
   "metadata": {},
   "outputs": [],
   "source": [
    "from random import choice\n",
    "\n",
    "class Dado:\n",
    "   def __init__(self,caras):\n",
    "        self.caras=caras\n",
    "   def tirar(self):\n",
    "        return choice(self.caras)\n",
    "    \n",
    "d6=Dado( [1,2,3,4,5,6] )\n",
    "t1=d6.tirar()\n",
    "t2=d6.tirar()\n",
    "t3=d6.tirar()\n",
    "\n",
    "tiradas= [t1,t2,t3]\n",
    "def esDos(x):\n",
    "    return x==2\n",
    "print(tiradas)\n",
    "any(map(esDos,tiradas))\n"
   ]
  },
  {
   "cell_type": "markdown",
   "id": "0515a5ab-62da-49a2-9b0e-af5c66ade5fb",
   "metadata": {},
   "source": [
    "__aSCII__: \n"
   ]
  },
  {
   "cell_type": "code",
   "execution_count": null,
   "id": "a8d2ac50-c882-4ca0-b221-4ca9e729a9a6",
   "metadata": {},
   "outputs": [],
   "source": [
    "x=\"Chavèz\"\n",
    "ascii(x)"
   ]
  },
  {
   "cell_type": "markdown",
   "id": "41d1b95b-31ba-4c01-9247-dde460605145",
   "metadata": {},
   "source": [
    "BIN BINARIO"
   ]
  },
  {
   "cell_type": "code",
   "execution_count": null,
   "id": "2dcb01d1-8e35-4526-a512-33c8fd427fc6",
   "metadata": {},
   "outputs": [],
   "source": [
    "bin(17)"
   ]
  },
  {
   "cell_type": "markdown",
   "id": "0328bad3-4121-4de6-8d36-4dd14613d8af",
   "metadata": {},
   "source": [
    "__BOOL__"
   ]
  },
  {
   "cell_type": "code",
   "execution_count": null,
   "id": "84ab0744-1509-4e30-bd97-67bae0d879a8",
   "metadata": {},
   "outputs": [],
   "source": [
    "bool(56)"
   ]
  },
  {
   "cell_type": "markdown",
   "id": "26da5a66-58e9-44df-a3c7-0b5c5cf24dfe",
   "metadata": {},
   "source": [
    "__complex__:"
   ]
  },
  {
   "cell_type": "code",
   "execution_count": null,
   "id": "29300607-bc61-4c69-88de-ca1c54d2b2ec",
   "metadata": {},
   "outputs": [],
   "source": [
    "complex(\"2+5j\")"
   ]
  },
  {
   "cell_type": "code",
   "execution_count": null,
   "id": "86a07b70-e055-469b-9c1e-5519a4baf129",
   "metadata": {},
   "outputs": [],
   "source": [
    "complex(\"1+3j\")+complex(\"8-6j\")"
   ]
  },
  {
   "cell_type": "markdown",
   "id": "444b1a75-1cff-45f1-b4c4-b74e2af14f84",
   "metadata": {},
   "source": [
    "__DICT__"
   ]
  },
  {
   "cell_type": "code",
   "execution_count": null,
   "id": "bdc09d6e-03f2-45c5-8354-bd42e197945d",
   "metadata": {},
   "outputs": [],
   "source": [
    "color= dict()\n",
    "color[\"Miguel\"]=\"Verde\"\n",
    "color[\"Paulo\"]=\"Negro\"\n",
    "color[\"Ary\"]=\"Blanco\"\n",
    "\n",
    "for people in [\"Miguel\",\"Paulo\",\"Ary\"]:\n",
    "    print(color[people])"
   ]
  },
  {
   "cell_type": "markdown",
   "id": "c8e97a68-5bd3-4dc8-bcdc-82607345b759",
   "metadata": {},
   "source": [
    "__EVAL__"
   ]
  },
  {
   "cell_type": "code",
   "execution_count": null,
   "id": "cd76eb7f-dd9e-4135-86b7-2976a926c8f5",
   "metadata": {},
   "outputs": [],
   "source": [
    "x= input()\n",
    "eval(x)\n"
   ]
  },
  {
   "cell_type": "code",
   "execution_count": null,
   "id": "0c775b13-6781-4b58-b26a-015ce94e3ed0",
   "metadata": {},
   "outputs": [],
   "source": []
  },
  {
   "cell_type": "code",
   "execution_count": null,
   "id": "cf7962ac-7026-4465-b858-5e126fd0f6d8",
   "metadata": {},
   "outputs": [],
   "source": []
  }
 ],
 "metadata": {
  "kernelspec": {
   "display_name": "Python 3 (ipykernel)",
   "language": "python",
   "name": "python3"
  },
  "language_info": {
   "codemirror_mode": {
    "name": "ipython",
    "version": 3
   },
   "file_extension": ".py",
   "mimetype": "text/x-python",
   "name": "python",
   "nbconvert_exporter": "python",
   "pygments_lexer": "ipython3",
   "version": "3.9.7"
  }
 },
 "nbformat": 4,
 "nbformat_minor": 5
}
