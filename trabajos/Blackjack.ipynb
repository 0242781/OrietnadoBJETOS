{
 "cells": [
  {
   "cell_type": "markdown",
   "id": "864aadbc-3a95-458d-b230-72fbf49f49ef",
   "metadata": {},
   "source": [
    "# *Representacion de las clases del juego Blakcjack*"
   ]
  },
  {
   "cell_type": "code",
   "execution_count": 3,
   "id": "1844066d-c0ff-41b2-aae8-73ea2b309c68",
   "metadata": {},
   "outputs": [],
   "source": [
    "class Baraja:\n",
    "    #Atributos\n",
    "    tamaño: int\n",
    "    tipo: str\n",
    "    #Relaciones\n",
    "    cartas: list  #son muchas\n",
    "    #Metodos\n",
    "    def mezclar (): pass\n",
    "\n",
    "#Docs.python library\n",
    "\n",
    "class Carta:\n",
    "    #Atributos\n",
    "    valor: int\n",
    "    palo: str\n",
    "    estado: bool\n",
    "    #Relaciones\n",
    "    baraja: Baraja\n",
    "    #Metodos \n",
    "    def enseñar (): pass\n",
    "\n",
    "class Mano:\n",
    "    #Atributos\n",
    "    puntaje: int\n",
    "    tamaño: int\n",
    "    #Relacion\n",
    "    def mostrar ():pass\n",
    "\n",
    "class Dealer:\n",
    "    pedir carta: bool\n",
    "    pasar: bool\n",
    "    def juego (): pass\n",
    "\n",
    "class Jugador:\n",
    "    nombre: str\n",
    "    detalles: int\n",
    "    turno: int\n",
    "    pedir_carta: bool\n",
    "    pasar: bool\n",
    "    mostrar_carta: int\n",
    "    apostar: int\n",
    "    def fichas (): pass\n",
    "\n",
    "class Fichas:\n",
    "    valor: int\n",
    "    tamaño: int\n",
    "    color: str\n",
    "    def jugador (): pass\n",
    "\n",
    "class Juego:\n",
    "    menu: str\n",
    "    cantidad_jugadores : int\n",
    "    apuesta_min: int\n",
    "    apuesta_max: int\n",
    "    tipo_dealer: bool\n",
    "    iniciar_juego: bool\n",
    "    #Preguntar si es char\n",
    "    pausar juego: chr \n",
    "    quitar_juego: chr\n",
    "    \n",
    "    def jugador(): pass\n",
    "    \n",
    "    "
   ]
  },
  {
   "cell_type": "code",
   "execution_count": null,
   "id": "67173c67-5289-406f-a12a-dbcf94f7e1d3",
   "metadata": {},
   "outputs": [],
   "source": []
  }
 ],
 "metadata": {
  "kernelspec": {
   "display_name": "Python 3 (ipykernel)",
   "language": "python",
   "name": "python3"
  },
  "language_info": {
   "codemirror_mode": {
    "name": "ipython",
    "version": 3
   },
   "file_extension": ".py",
   "mimetype": "text/x-python",
   "name": "python",
   "nbconvert_exporter": "python",
   "pygments_lexer": "ipython3",
   "version": "3.10.2"
  }
 },
 "nbformat": 4,
 "nbformat_minor": 5
}
